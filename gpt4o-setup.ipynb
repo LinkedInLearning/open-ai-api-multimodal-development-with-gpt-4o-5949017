{
 "cells": [
  {
   "cell_type": "markdown",
   "metadata": {},
   "source": [
    "# Accessing multimodal capapabilities in GPT-4o\n",
    "\n",
    "This notebook provides a basic demonstration of how to use the GPT-4o model through the OpenAI API to interpret both text and image prompts.\n",
    "\n",
    "Relevant links:\n",
    "- [Introduction to GPT-4o cookbook from OpenAI](https://cookbook.openai.com/examples/gpt4o/introduction_to_gpt4o)\n",
    "- [API reference for chat completions](https://platform.openai.com/docs/api-reference/chat/create)\n",
    "- [Documentation for function calling](https://platform.openai.com/docs/guides/function-calling)\n",
    "- [JSON Schema documentation](https://json-schema.org/understanding-json-schema/reference/non_json_data#light-scheme-icon)"
   ]
  },
  {
   "cell_type": "code",
   "execution_count": null,
   "metadata": {},
   "outputs": [],
   "source": [
    "# Import necessary libraries\n",
    "import os\n",
    "import pandas as pd\n",
    "from openai import OpenAI\n",
    "from dotenv import load_dotenv\n",
    "import base64\n",
    "import json\n",
    "from datetime import date\n",
    "\n",
    "# Load the .env file\n",
    "load_dotenv()\n",
    "\n",
    "# Set up an OpenAI object using the OpenAI API key\n",
    "client = OpenAI(api_key=os.environ.get(\"OPENAI_API_KEY\"))"
   ]
  },
  {
   "cell_type": "markdown",
   "metadata": {},
   "source": [
    "## Create a standard chat completion using GPT-4o."
   ]
  },
  {
   "cell_type": "code",
   "execution_count": null,
   "metadata": {},
   "outputs": [],
   "source": [
    "completion = client.chat.completions.create(\n",
    "  model=\"gpt-4o\",\n",
    "  messages=[\n",
    "    {\n",
    "      \"role\": \"system\", \n",
    "      \"content\": \"You are a helpful assistant.\"\n",
    "    },\n",
    "    {\n",
    "      \"role\": \"user\", \n",
    "      \"content\": \"Write a haiku about a duck.\"\n",
    "    } \n",
    "  ]\n",
    ")\n",
    "\n",
    "print(completion.choices[0].message.content)"
   ]
  },
  {
   "cell_type": "markdown",
   "metadata": {},
   "source": [
    "### Encode images\n",
    "To pass an image to the model, first turn it into a base64-encoded string."
   ]
  },
  {
   "cell_type": "code",
   "execution_count": null,
   "metadata": {},
   "outputs": [],
   "source": [
    "# Image path\n",
    "IMAGE_PATH = \"data/receipt-01.png\"\n",
    "\n",
    "# Encode the image file as a base64 string\n",
    "def encode_image(image_path):\n",
    "  with open(image_path, \"rb\") as image_file:\n",
    "    return base64.b64encode(image_file.read()).decode(\"utf-8\")\n",
    "\n",
    "base64_image = encode_image(IMAGE_PATH)"
   ]
  },
  {
   "cell_type": "markdown",
   "metadata": {},
   "source": [
    "### Prompt GPT-4o using an image\n",
    "Next, pass the image in the messages object by setting the `type` to `image_url`."
   ]
  },
  {
   "cell_type": "code",
   "execution_count": null,
   "metadata": {},
   "outputs": [],
   "source": [
    "\n",
    "# Pass the image to GPT-4o anlong with a prompt.\n",
    "response = client.chat.completions.create(\n",
    "  model=\"gpt-4o\",\n",
    "  messages=[\n",
    "    {\n",
    "      \"role\": \"system\",\n",
    "      \"content\": \"Answer the quesiton based on the provided image.\"\n",
    "    },\n",
    "    {\n",
    "      \"role\": \"user\",\n",
    "      \"content\": [\n",
    "        {\n",
    "            \"type\": \"text\",\n",
    "            \"text\": \"What store is this receipt from?\"\n",
    "        },\n",
    "        {\n",
    "          \"type\": \"image_url\", \n",
    "          \"image_url\": {\n",
    "            \"url\": f\"data:image/png;base64,{base64_image}\"\n",
    "          }\n",
    "        }\n",
    "      ]\n",
    "    }\n",
    "  ],\n",
    "  temperature=0.0,\n",
    ")\n",
    "\n",
    "# Print the response\n",
    "print(response.choices[0].message.content)"
   ]
  },
  {
   "cell_type": "markdown",
   "metadata": {},
   "source": [
    "### Get structured data from GPT-4o\n",
    "To get the output as JSON, specify JSON output in the system message and set the `response_format` parameter to `{\"type\": \"json_object\"}`."
   ]
  },
  {
   "cell_type": "code",
   "execution_count": null,
   "metadata": {},
   "outputs": [],
   "source": [
    "response = client.chat.completions.create(\n",
    "  model=\"gpt-4o\",\n",
    "  messages=[\n",
    "    {\n",
    "      \"role\": \"system\",\n",
    "      \"content\": \"If the image is a receipt, output store, purchase date, items, taxes, and total as JSON. If it's not a receipt, ask for a receipt.\"\n",
    "    },\n",
    "    {\n",
    "      \"role\": \"user\",\n",
    "      \"content\": [\n",
    "        {\n",
    "          \"type\": \"image_url\",\n",
    "          \"image_url\": {\n",
    "            \"url\": f\"data:image/png;base64,{base64_image}\"\n",
    "          }\n",
    "        }\n",
    "      ]\n",
    "    }\n",
    "  ],\n",
    "  temperature=0.0,\n",
    "  response_format={ \"type\": \"json_object\" }\n",
    ")\n",
    "\n",
    "print(response.choices[0].message.content)"
   ]
  },
  {
   "cell_type": "markdown",
   "metadata": {},
   "source": [
    "### Set up a function call\n",
    "To further control the JSON output, use function calling. See the [API reference](https://platform.openai.com/docs/api-reference/chat/create#chat-create-tools) for more on function calling, and [JSON schema reference](https://json-schema.org/understanding-json-schema/reference) for info on how to format the function call schema.\n",
    "\n",
    "Below the function call schema is broken out into a variable to make the function easier to read."
   ]
  },
  {
   "cell_type": "code",
   "execution_count": null,
   "metadata": {},
   "outputs": [],
   "source": [
    "function_call = [\n",
    "  {\n",
    "    \"type\": \"function\",\n",
    "    \"function\": {\n",
    "      \"name\": \"itemize_receipt\",\n",
    "      \"description\": \"Itemize a receipt from an image\",\n",
    "      \"parameters\": {\n",
    "        \"type\": \"object\",\n",
    "        \"properties\": {\n",
    "          \"vendor\": {\n",
    "            \"type\": \"string\",\n",
    "            \"description\": \"Name of vendor\",\n",
    "          },\n",
    "          \"date\": {\n",
    "            \"type\": \"string\",\n",
    "            \"format\": \"date\",\n",
    "            \"description\": \"Date of purchase\",\n",
    "          },\n",
    "          \"items\": {\n",
    "            \"type\": \"array\",\n",
    "            \"items\": {\n",
    "              \"type\": \"object\",\n",
    "              \"properties\": {\n",
    "                  \"name\": {\n",
    "                    \"type\": \"string\",\n",
    "                    \"description\": \"Name of item\",\n",
    "                  },\n",
    "                  \"price\": {\n",
    "                    \"type\": \"number\",\n",
    "                    \"description\": \"Price of item\",\n",
    "                  },\n",
    "                  \"quantity\": {\n",
    "                    \"type\": \"integer\",\n",
    "                    \"description\": \"Quantity of item\",\n",
    "                  },\n",
    "                  \"category\": {\n",
    "                    \"type\": \"string\",\n",
    "                    \"description\": \"Category of item\",\n",
    "                    \"enum\": [\"take-out\", \"meal\", \"groceries\", \"clothing\", \"electronics\", \"supplies\", \"other\"],\n",
    "                  },\n",
    "              },\n",
    "            },\n",
    "            \"description\": \"List of items purchased\",\n",
    "          },\n",
    "          \"payment_method\": {\n",
    "            \"type\": \"string\",\n",
    "            \"description\": \"Payment method\",\n",
    "            \"enum\": [\"cash\", \"credit\", \"debit\", \"mobile\", \"other\"],\n",
    "          },\n",
    "        },\n",
    "        \"required\": [\"vendor\",\"date\",\"items\",\"payment_method\"],\n",
    "      },\n",
    "    }\n",
    "  }\n",
    "]"
   ]
  },
  {
   "cell_type": "markdown",
   "metadata": {},
   "source": [
    "### Multimodal prompting with function calling\n",
    "Combine the multimodal image prompt with a function call to capture relevant data from receipts.\n",
    "\n",
    "Note: The system message is set up to capture any images that are not of receipts and return a regular completion instead of the function call."
   ]
  },
  {
   "cell_type": "code",
   "execution_count": null,
   "metadata": {},
   "outputs": [],
   "source": [
    "# Use IPython.display.JSON for easier to read JSON output.\n",
    "from IPython.display import JSON\n",
    "\n",
    "response = client.chat.completions.create(\n",
    "  model=\"gpt-4o\",\n",
    "  messages=[\n",
    "    {\"role\": \"system\", \"content\": \"If the image is a receipt, process the data. If it's not a receipt, ask for a receipt.\"},\n",
    "    {\"role\": \"user\", \"content\": [\n",
    "      {\"type\": \"image_url\", \"image_url\": {\n",
    "        \"url\": f\"data:image/png;base64,{base64_image}\"}\n",
    "      }\n",
    "    ]},\n",
    "  ],\n",
    "  tools=function_call, # <-- Add the function_call schema from above\n",
    "  tool_choice=\"auto\",\n",
    "  temperature=0.0,\n",
    ")\n",
    "\n",
    "print(response)\n",
    "# Parse the JSON data from the response\n",
    "receipt_data = json.loads(response.choices[0].message.tool_calls[0].function.arguments)\n",
    "\n",
    "# Display the JSON data\n",
    "JSON(receipt_data, expanded=True)\n",
    "\n"
   ]
  },
  {
   "cell_type": "markdown",
   "metadata": {},
   "source": [
    "### Create a Dataframe from a CSV file"
   ]
  },
  {
   "cell_type": "code",
   "execution_count": null,
   "metadata": {},
   "outputs": [],
   "source": [
    "expenses_df = pd.read_csv(\"expenses.csv\")\n",
    "expenses_df"
   ]
  },
  {
   "cell_type": "markdown",
   "metadata": {},
   "source": [
    "### Add new rows to the dataframe\n",
    "Iterate through `receipt_data`, create a new row for each item, and add the data to the `expenses_df` DataFrame."
   ]
  },
  {
   "cell_type": "code",
   "execution_count": null,
   "metadata": {},
   "outputs": [],
   "source": [
    "new_rows = []\n",
    "for item in receipt_data['items']:\n",
    "\n",
    "  print(f\"Adding item: {item['name']}\")\n",
    "  new_row = {\n",
    "    \"Date\": receipt_data.get(\"date\", date.today().isoformat()),\n",
    "    \"Vendor\": receipt_data.get(\"vendor\", \"\"),\n",
    "    \"Name\": item.get(\"name\", \"\"),\n",
    "    \"Quantity\": item.get(\"quantity\", 1),\n",
    "    \"Price\": item.get(\"price\", 0),\n",
    "    \"Category\": item.get(\"category\", \"Uncategorized\"),\n",
    "    \"Payment method\": receipt_data.get(\"payment_method\", \"Unknown\"),\n",
    "  }\n",
    "  new_rows.append(new_row)\n",
    "\n",
    "# Convert the list of new rows to a DataFrame\n",
    "new_rows_df = pd.DataFrame(new_rows)\n",
    "\n",
    "# Concatenate the new rows DataFrame to the existing expenses DataFrame\n",
    "if expenses_df.empty:\n",
    "  expenses_df = new_rows_df\n",
    "else:\n",
    "  expenses_df = pd.concat([expenses_df, new_rows_df], ignore_index=True)\n",
    "\n",
    "expenses_df"
   ]
  },
  {
   "cell_type": "markdown",
   "metadata": {},
   "source": [
    "### Write new rows to CSV\n",
    "Save the new data in the existing CSV by overwriting it with the `expenses_df` data."
   ]
  },
  {
   "cell_type": "code",
   "execution_count": null,
   "metadata": {},
   "outputs": [],
   "source": [
    "expenses_df.to_csv('expenses.csv', index=False)"
   ]
  },
  {
   "cell_type": "code",
   "execution_count": null,
   "metadata": {},
   "outputs": [],
   "source": []
  }
 ],
 "metadata": {
  "kernelspec": {
   "display_name": "Python 3",
   "language": "python",
   "name": "python3"
  },
  "language_info": {
   "codemirror_mode": {
    "name": "ipython",
    "version": 3
   },
   "file_extension": ".py",
   "mimetype": "text/x-python",
   "name": "python",
   "nbconvert_exporter": "python",
   "pygments_lexer": "ipython3",
   "version": "3.11.9"
  }
 },
 "nbformat": 4,
 "nbformat_minor": 2
}
