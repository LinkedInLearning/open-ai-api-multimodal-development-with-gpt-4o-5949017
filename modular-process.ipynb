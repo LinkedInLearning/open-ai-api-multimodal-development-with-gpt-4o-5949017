{
 "cells": [
  {
   "cell_type": "markdown",
   "metadata": {},
   "source": [
    "# Use OpenAI GPT-4o to read receipts and add itemized list to a spreadhseet\n",
    "\n",
    "This setup extracts all image files from the data folder, uses GPT-4o with function calling to identify images with receipts, read the receipts, and return relevant data in a specified structure. Finally, Python uses the data to add new rows to a CSV file."
   ]
  },
  {
   "cell_type": "code",
   "execution_count": null,
   "metadata": {},
   "outputs": [],
   "source": [
    "# Import modules and dependencies\n",
    "import os\n",
    "from utils.manage_data import import_expenses, write_expenses\n",
    "from utils.process_receipt import process_receipt"
   ]
  },
  {
   "cell_type": "code",
   "execution_count": null,
   "metadata": {},
   "outputs": [],
   "source": [
    "# Import expenses.csv, place the data in a DataFrame, and display the data\n",
    "expenses_df = import_expenses(\"expenses.csv\")\n",
    "expenses_df"
   ]
  },
  {
   "cell_type": "code",
   "execution_count": null,
   "metadata": {},
   "outputs": [],
   "source": [
    "# Get data folder\n",
    "data_folder = \"data\"\n",
    "\n",
    "# Get the list of files in the data folder\n",
    "files = os.listdir(data_folder)\n",
    "\n",
    "# Filter the list of files to only include image files\n",
    "image_files = [file for file in files if os.path.splitext(file)[1].lower() in ['.jpg', '.jpeg', '.png', '.gif']]"
   ]
  },
  {
   "cell_type": "code",
   "execution_count": null,
   "metadata": {},
   "outputs": [],
   "source": [
    "# Iterate over each file in the  data folder\n",
    "for index, image_file in enumerate(image_files, start=1):\n",
    "    print(f\"Processing image {index} of {len(image_files)}.\")\n",
    "    print(\"---------------------------\")\n",
    "\n",
    "    # Get the full path to the current image file\n",
    "    image_path = os.path.join(data_folder, image_file)\n",
    "\n",
    "    # Run process_receipt() on each file\n",
    "    expenses_df = process_receipt(expenses_df, image_path)\n",
    "\n",
    "    print('\\n')\n",
    "\n",
    "# Output the DataFrame with any new expense rows added\n",
    "expenses_df"
   ]
  },
  {
   "cell_type": "code",
   "execution_count": null,
   "metadata": {},
   "outputs": [],
   "source": [
    "# Use the DataFrame to write the updated expenses.csv file\n",
    "write_expenses(expenses_df, \"expenses.csv\")"
   ]
  }
 ],
 "metadata": {
  "kernelspec": {
   "display_name": "Python 3",
   "language": "python",
   "name": "python3"
  },
  "language_info": {
   "codemirror_mode": {
    "name": "ipython",
    "version": 3
   },
   "file_extension": ".py",
   "mimetype": "text/x-python",
   "name": "python",
   "nbconvert_exporter": "python",
   "pygments_lexer": "ipython3",
   "version": "3.11.5"
  }
 },
 "nbformat": 4,
 "nbformat_minor": 2
}
